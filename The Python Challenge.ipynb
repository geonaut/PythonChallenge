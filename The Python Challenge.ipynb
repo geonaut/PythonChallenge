{
 "cells": [
  {
   "cell_type": "markdown",
   "metadata": {},
   "source": [
    "# Level 1 - Deciphering the code"
   ]
  },
  {
   "cell_type": "code",
   "execution_count": 38,
   "metadata": {
    "collapsed": false
   },
   "outputs": [
    {
     "name": "stdout",
     "output_type": "stream",
     "text": [
      "i hope you didnt translate it by hand. thats what computers are for. doing it in by hand is inefficient and that's why this text is so long. using string.maketrans() is recommended. now apply on the url.\n",
      "ocr\n"
     ]
    }
   ],
   "source": [
    "#Maketrans doesn't work in Python3 - using translate instead\n",
    "s = \"g fmnc wms bgblr rpylqjyrc gr zw fylb. rfyrq ufyr amknsrcpq ypc dmp. bmgle gr gl zw fylb gq glcddgagclr ylb rfyr'q ufw rfgq rcvr gq qm jmle. sqgle qrpgle.kyicrpylq() gq pcamkkclbcb. lmu ynnjw ml rfc spj.\"\n",
    "url = \"map\"\n",
    "intab = 'abcdefghijklmnopqrstuvwxyz'\n",
    "outtab = 'cdefghijklmnopqrstuvwxyzab'\n",
    "\n",
    "#translate the code\n",
    "print(s.translate({ord(x): y for (x, y) in zip(intab, outtab)}))\n",
    "#translate the last component of the URL (map)\n",
    "print(url.translate({ord(x): y for (x, y) in zip(intab, outtab)}))"
   ]
  },
  {
   "cell_type": "markdown",
   "metadata": {},
   "source": [
    "# Level 2 - Character Frequencies"
   ]
  },
  {
   "cell_type": "code",
   "execution_count": 59,
   "metadata": {
    "collapsed": false
   },
   "outputs": [
    {
     "name": "stdout",
     "output_type": "stream",
     "text": [
      "nequality\n"
     ]
    }
   ],
   "source": [
    "import re\n",
    "\n",
    "def char_frequency(str1):\n",
    "    dict = {}\n",
    "    for n in str1:\n",
    "        keys = dict.keys()\n",
    "        if n in keys:\n",
    "            dict[n] += 1\n",
    "        else:\n",
    "            dict[n] = 1\n",
    "    return dict\n",
    "\n",
    "with open('rare_chars.txt', 'r') as f:\n",
    "    singleLine = f.read()\n",
    "    data = char_frequency(singleLine)\n",
    "\n",
    "    #not sure where the n is coming from - the URL is equality\n",
    "print(\"\".join(re.findall(\"[A-Za-z]\", str(data))))"
   ]
  },
  {
   "cell_type": "markdown",
   "metadata": {},
   "source": [
    "# Level 3 - Annoying REGEX"
   ]
  },
  {
   "cell_type": "code",
   "execution_count": 66,
   "metadata": {
    "collapsed": false
   },
   "outputs": [
    {
     "name": "stdout",
     "output_type": "stream",
     "text": [
      "linkedlist\n"
     ]
    }
   ],
   "source": [
    "import re\n",
    "\n",
    "with open('candles.txt', 'r') as f:\n",
    "    singleLine = f.read()\n",
    "\n",
    "#regex needs to take account of preceeding and subsequent characters (i.e. characters -1 and 8), and then ignore the uppercase 'bodyguards'\n",
    "print(\"\".join(re.findall(\"[^A-Z]+[A-Z]{3}([a-z])[A-Z]{3}[^A-Z]+\", str(singleLine))))"
   ]
  },
  {
   "cell_type": "markdown",
   "metadata": {},
   "source": [
    "# Level 4 - URL Trail"
   ]
  },
  {
   "cell_type": "code",
   "execution_count": 14,
   "metadata": {
    "collapsed": false
   },
   "outputs": [],
   "source": [
    "import urllib, re, time\n",
    "from urllib.request import urlopen\n",
    "\n",
    "uri = \"http://www.pythonchallenge.com/pc/def/linkedlist.php?nothing=%s\"\n",
    "nothing_rep = \"and the next nothing is (\\d+)\"\n",
    "nothing = \"8022\" # You'll later be asked to change this\n",
    "                  # to \"46059\" and re-run the script.\n",
    "\n",
    "while True:\n",
    "    try:\n",
    "        source = urlopen(uri % nothing).read()\n",
    "        nothing = int(''.join(list(filter(str.isdigit, str(source)))))\n",
    "    except:\n",
    "        break\n",
    "    \n",
    "#     print(nothing)"
   ]
  },
  {
   "cell_type": "markdown",
   "metadata": {},
   "source": [
    "# Level 5 - A dilly of a pickle"
   ]
  },
  {
   "cell_type": "code",
   "execution_count": 13,
   "metadata": {
    "collapsed": false
   },
   "outputs": [
    {
     "name": "stdout",
     "output_type": "stream",
     "text": [
      "[(' ', 3), ('#', 3), (' ', 4), ('#', 2), (' ', 3), ('#', 4), (' ', 5), ('#', 4), (' ', 3), ('#', 11), (' ', 3), ('#', 4), (' ', 5), ('#', 4), (' ', 2), ('#', 4), (' ', 5), ('#', 4), (' ', 4), ('#', 3), (' ', 4), ('#', 2), (' ', 4), ('#', 4), (' ', 1)]\n",
      "                                                                                               \n",
      "              #####                                                                      ##### \n",
      "               ####                                                                       #### \n",
      "               ####                                                                       #### \n",
      "               ####                                                                       #### \n",
      "               ####                                                                       #### \n",
      "               ####                                                                       #### \n",
      "               ####                                                                       #### \n",
      "               ####                                                                       #### \n",
      "      ###      ####   ###         ###       #####   ###    #####   ###          ###       #### \n",
      "   ###   ##    #### #######     ##  ###      #### #######   #### #######     ###  ###     #### \n",
      "  ###     ###  #####    ####   ###   ####    #####    ####  #####    ####   ###     ###   #### \n",
      " ###           ####     ####   ###    ###    ####     ####  ####     ####  ###      ####  #### \n",
      " ###           ####     ####          ###    ####     ####  ####     ####  ###       ###  #### \n",
      "####           ####     ####     ##   ###    ####     ####  ####     #### ####       ###  #### \n",
      "####           ####     ####   ##########    ####     ####  ####     #### ##############  #### \n",
      "####           ####     ####  ###    ####    ####     ####  ####     #### ####            #### \n",
      "####           ####     #### ####     ###    ####     ####  ####     #### ####            #### \n",
      " ###           ####     #### ####     ###    ####     ####  ####     ####  ###            #### \n",
      "  ###      ##  ####     ####  ###    ####    ####     ####  ####     ####   ###      ##   #### \n",
      "   ###    ##   ####     ####   ###########   ####     ####  ####     ####    ###    ##    #### \n",
      "      ###     ######    #####    ##    #### ######    ###########    #####      ###      ######\n",
      "                                                                                               \n"
     ]
    }
   ],
   "source": [
    "import pickle, urllib.request\n",
    "\n",
    "handle = urlopen(\"http://www.pythonchallenge.com/pc/def/banner.p\")\n",
    "data = pickle.load(handle)\n",
    "handle.close()\n",
    "\n",
    "#ELT as in Extract, Load, Transform\n",
    "for elt in data:\n",
    "    #List of tuples, containing count and character - 3 spaces, then 5 hashes, then another 2 spaces etc etc\n",
    "    print(\"\".join([e[1] * e[0] for e in elt]))"
   ]
  },
  {
   "cell_type": "markdown",
   "metadata": {},
   "source": [
    "# Level 6 - Zip trail"
   ]
  },
  {
   "cell_type": "code",
   "execution_count": 45,
   "metadata": {
    "collapsed": false
   },
   "outputs": [
    {
     "name": "stdout",
     "output_type": "stream",
     "text": [
      "b'Collect the comments.'\n",
      "****************************************************************\n",
      "****************************************************************\n",
      "**                                                            **\n",
      "**   OO    OO    XX      YYYY    GG    GG  EEEEEE NN      NN  **\n",
      "**   OO    OO  XXXXXX   YYYYYY   GG   GG   EEEEEE  NN    NN   **\n",
      "**   OO    OO XXX  XXX YYY   YY  GG GG     EE       NN  NN    **\n",
      "**   OOOOOOOO XX    XX YY        GGG       EEEEE     NNNN     **\n",
      "**   OOOOOOOO XX    XX YY        GGG       EEEEE      NN      **\n",
      "**   OO    OO XXX  XXX YYY   YY  GG GG     EE         NN      **\n",
      "**   OO    OO  XXXXXX   YYYYYY   GG   GG   EEEEEE     NN      **\n",
      "**   OO    OO    XX      YYYY    GG    GG  EEEEEE     NN      **\n",
      "**                                                            **\n",
      "****************************************************************\n",
      " **************************************************************\n",
      "\n"
     ]
    }
   ],
   "source": [
    "import urllib, zipfile, re, collections\n",
    "\n",
    "o, n, f = [], \"90052\", \"%s.txt\"\n",
    "nnr = \"Next nothing is (\\d+)\"\n",
    "\n",
    "# Download the ZIP file from http://www.pythonchallenge.com/pc/def/channel.zip\n",
    "\n",
    "zip = zipfile.ZipFile(\"channel.zip\")\n",
    "\n",
    "while True:\n",
    "    try:\n",
    "        file = zip.read(f % n)\n",
    "        #grab the comment\n",
    "        o.append((zip.getinfo(str(n) + \".txt\").comment).decode(\"utf-8\"))\n",
    "        #increment n\n",
    "        n = int(''.join(list(filter(str.isdigit, str(file)))))\n",
    "    except:\n",
    "        print(zip.read(f % n))\n",
    "        break\n",
    "\n",
    "#answer is Oxygen - check the small letters used to write the word HOCKEY\n",
    "print(\"\".join(o))"
   ]
  }
 ],
 "metadata": {
  "kernelspec": {
   "display_name": "Python 3",
   "language": "python",
   "name": "python3"
  },
  "language_info": {
   "codemirror_mode": {
    "name": "ipython",
    "version": 3
   },
   "file_extension": ".py",
   "mimetype": "text/x-python",
   "name": "python",
   "nbconvert_exporter": "python",
   "pygments_lexer": "ipython3",
   "version": "3.6.0"
  }
 },
 "nbformat": 4,
 "nbformat_minor": 2
}
